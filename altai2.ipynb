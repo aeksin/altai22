{
  "nbformat": 4,
  "nbformat_minor": 0,
  "metadata": {
    "colab": {
      "provenance": []
    },
    "kernelspec": {
      "name": "python3",
      "display_name": "Python 3"
    },
    "language_info": {
      "name": "python"
    },
    "accelerator": "GPU",
    "gpuClass": "standard"
  },
  "cells": [
    {
      "cell_type": "markdown",
      "source": [
        "# Теперь с нормализацией и работой с данными + торч"
      ],
      "metadata": {
        "id": "UsJSupi_ypMw"
      }
    },
    {
      "cell_type": "code",
      "execution_count": null,
      "metadata": {
        "id": "buVBZJL4ylDn"
      },
      "outputs": [],
      "source": [
        "import numpy as np\n",
        "import pandas as pd\n",
        "import matplotlib.pyplot as plt\n",
        "import torch"
      ]
    },
    {
      "cell_type": "code",
      "source": [
        "from google.colab import output\n",
        "output.enable_custom_widget_manager()"
      ],
      "metadata": {
        "id": "ZXECDn1-y8Gl"
      },
      "execution_count": null,
      "outputs": []
    },
    {
      "cell_type": "code",
      "source": [
        "from sklearn.linear_model import LogisticRegression, LogisticRegressionCV\n",
        "from sklearn.model_selection import train_test_split, GridSearchCV\n",
        "from sklearn.preprocessing import StandardScaler, RobustScaler, LabelEncoder, OneHotEncoder\n",
        "from sklearn.pipeline import make_pipeline"
      ],
      "metadata": {
        "id": "jhJqWo5JzCar"
      },
      "execution_count": null,
      "outputs": []
    },
    {
      "cell_type": "code",
      "source": [
        "!pip install catboost"
      ],
      "metadata": {
        "colab": {
          "base_uri": "https://localhost:8080/"
        },
        "id": "5mP5fLcg9Qc9",
        "outputId": "786f1fca-930a-48e5-e1d6-f5fcfbbeef20"
      },
      "execution_count": null,
      "outputs": [
        {
          "output_type": "stream",
          "name": "stdout",
          "text": [
            "Looking in indexes: https://pypi.org/simple, https://us-python.pkg.dev/colab-wheels/public/simple/\n",
            "Collecting catboost\n",
            "  Downloading catboost-1.0.6-cp37-none-manylinux1_x86_64.whl (76.6 MB)\n",
            "\u001b[K     |████████████████████████████████| 76.6 MB 1.2 MB/s \n",
            "\u001b[?25hRequirement already satisfied: six in /usr/local/lib/python3.7/dist-packages (from catboost) (1.15.0)\n",
            "Requirement already satisfied: plotly in /usr/local/lib/python3.7/dist-packages (from catboost) (5.5.0)\n",
            "Requirement already satisfied: scipy in /usr/local/lib/python3.7/dist-packages (from catboost) (1.7.3)\n",
            "Requirement already satisfied: matplotlib in /usr/local/lib/python3.7/dist-packages (from catboost) (3.2.2)\n",
            "Requirement already satisfied: pandas>=0.24.0 in /usr/local/lib/python3.7/dist-packages (from catboost) (1.3.5)\n",
            "Requirement already satisfied: graphviz in /usr/local/lib/python3.7/dist-packages (from catboost) (0.10.1)\n",
            "Requirement already satisfied: numpy>=1.16.0 in /usr/local/lib/python3.7/dist-packages (from catboost) (1.21.6)\n",
            "Requirement already satisfied: python-dateutil>=2.7.3 in /usr/local/lib/python3.7/dist-packages (from pandas>=0.24.0->catboost) (2.8.2)\n",
            "Requirement already satisfied: pytz>=2017.3 in /usr/local/lib/python3.7/dist-packages (from pandas>=0.24.0->catboost) (2022.2.1)\n",
            "Requirement already satisfied: pyparsing!=2.0.4,!=2.1.2,!=2.1.6,>=2.0.1 in /usr/local/lib/python3.7/dist-packages (from matplotlib->catboost) (3.0.9)\n",
            "Requirement already satisfied: kiwisolver>=1.0.1 in /usr/local/lib/python3.7/dist-packages (from matplotlib->catboost) (1.4.4)\n",
            "Requirement already satisfied: cycler>=0.10 in /usr/local/lib/python3.7/dist-packages (from matplotlib->catboost) (0.11.0)\n",
            "Requirement already satisfied: typing-extensions in /usr/local/lib/python3.7/dist-packages (from kiwisolver>=1.0.1->matplotlib->catboost) (4.1.1)\n",
            "Requirement already satisfied: tenacity>=6.2.0 in /usr/local/lib/python3.7/dist-packages (from plotly->catboost) (8.0.1)\n",
            "Installing collected packages: catboost\n",
            "Successfully installed catboost-1.0.6\n"
          ]
        }
      ]
    },
    {
      "cell_type": "code",
      "source": [
        "import catboost"
      ],
      "metadata": {
        "id": "MnDVKHVP9Soj"
      },
      "execution_count": null,
      "outputs": []
    },
    {
      "cell_type": "code",
      "source": [
        "train=pd.read_csv(\"./train_dataset_train (1).csv\")"
      ],
      "metadata": {
        "id": "dufGfozVzMO5"
      },
      "execution_count": null,
      "outputs": []
    },
    {
      "cell_type": "code",
      "source": [
        "test=pd.read_csv(\"./test_dataset_test.csv\")"
      ],
      "metadata": {
        "id": "BlI5ytaAzM0W"
      },
      "execution_count": null,
      "outputs": []
    },
    {
      "cell_type": "code",
      "source": [
        "df=train.copy()"
      ],
      "metadata": {
        "id": "IIy2yx1ezkMK"
      },
      "execution_count": null,
      "outputs": []
    },
    {
      "cell_type": "code",
      "source": [
        "tes=test.copy()"
      ],
      "metadata": {
        "id": "pDwzXVJ78M7T"
      },
      "execution_count": null,
      "outputs": []
    },
    {
      "cell_type": "code",
      "source": [
        "cat=['Пол','Основания','Изучаемый_Язык','Дата_Рождения','Уч_Заведение','Где_Находится_УЗ','Страна_Родители','Страна_ПП','Регион_ПП','Город_ПП']"
      ],
      "metadata": {
        "id": "7cX_4vXq9hCu"
      },
      "execution_count": null,
      "outputs": []
    },
    {
      "cell_type": "code",
      "source": [
        "num=['Код_группы','Год_Поступления','Год_Окончания_УЗ','Общежитие','Наличие_Матери','Наличие_Отца','Село','Иностранец','КодФакультета','СрБаллАттестата']"
      ],
      "metadata": {
        "id": "Z5cykMFQ9hyK"
      },
      "execution_count": null,
      "outputs": []
    },
    {
      "cell_type": "markdown",
      "source": [
        "# Информация о данных"
      ],
      "metadata": {
        "id": "Wpv0KsoR9th7"
      }
    },
    {
      "cell_type": "code",
      "source": [
        "df.describe(include=\"all\")"
      ],
      "metadata": {
        "colab": {
          "base_uri": "https://localhost:8080/",
          "height": 540
        },
        "id": "UD6WIQe-9b72",
        "outputId": "8598d292-6a70-4efa-f2cf-3525d6b6afcf"
      },
      "execution_count": null,
      "outputs": [
        {
          "output_type": "execute_result",
          "data": {
            "text/plain": [
              "                   ID    Код_группы  Год_Поступления    Пол Основания  \\\n",
              "count    13584.000000  13584.000000     13584.000000  13577     13584   \n",
              "unique            NaN           NaN              NaN      3         5   \n",
              "top               NaN           NaN              NaN    Жен        ОО   \n",
              "freq              NaN           NaN              NaN   8133      5084   \n",
              "mean     70096.056905  18302.499926      2014.992123    NaN       NaN   \n",
              "std      12705.894531   2540.417956         2.595339    NaN       NaN   \n",
              "min      44632.000000  11550.000000      2001.000000    NaN       NaN   \n",
              "25%      63496.750000  16901.000000      2013.000000    NaN       NaN   \n",
              "50%      71401.500000  18534.500000      2015.000000    NaN       NaN   \n",
              "75%      78404.250000  20599.000000      2016.000000    NaN       NaN   \n",
              "max     264403.000000  22824.000000      2212.000000    NaN       NaN   \n",
              "\n",
              "         Изучаемый_Язык            Дата_Рождения  \\\n",
              "count             12758                    13584   \n",
              "unique                7                     5044   \n",
              "top     Английский язык  1995-08-07 00:00:00.000   \n",
              "freq              10450                       16   \n",
              "mean                NaN                      NaN   \n",
              "std                 NaN                      NaN   \n",
              "min                 NaN                      NaN   \n",
              "25%                 NaN                      NaN   \n",
              "50%                 NaN                      NaN   \n",
              "75%                 NaN                      NaN   \n",
              "max                 NaN                      NaN   \n",
              "\n",
              "                                          Уч_Заведение  \\\n",
              "count                                            12351   \n",
              "unique                                            3646   \n",
              "top     ФГБОУ ВО Алтайский государственный университет   \n",
              "freq                                              1359   \n",
              "mean                                               NaN   \n",
              "std                                                NaN   \n",
              "min                                                NaN   \n",
              "25%                                                NaN   \n",
              "50%                                                NaN   \n",
              "75%                                                NaN   \n",
              "max                                                NaN   \n",
              "\n",
              "                 Где_Находится_УЗ  Год_Окончания_УЗ  ...     Общежитие  \\\n",
              "count                       12203      12284.000000  ...  13498.000000   \n",
              "unique                       2110               NaN  ...           NaN   \n",
              "top     Алтайский край, Барнаул г               NaN  ...           NaN   \n",
              "freq                         2413               NaN  ...           NaN   \n",
              "mean                          NaN       2013.876018  ...      0.219884   \n",
              "std                           NaN          4.247111  ...      0.414184   \n",
              "min                           NaN       1973.000000  ...      0.000000   \n",
              "25%                           NaN       2013.000000  ...      0.000000   \n",
              "50%                           NaN       2015.000000  ...      0.000000   \n",
              "75%                           NaN       2016.000000  ...      0.000000   \n",
              "max                           NaN       2020.000000  ...      1.000000   \n",
              "\n",
              "       Наличие_Матери  Наличие_Отца Страна_Родители    Опекунство  \\\n",
              "count    13584.000000  13584.000000           13126  13584.000000   \n",
              "unique            NaN           NaN              19           NaN   \n",
              "top               NaN           NaN          Россия           NaN   \n",
              "freq              NaN           NaN           12239           NaN   \n",
              "mean         0.511484      0.509570             NaN      0.000442   \n",
              "std          0.499886      0.499927             NaN      0.021013   \n",
              "min          0.000000      0.000000             NaN      0.000000   \n",
              "25%          0.000000      0.000000             NaN      0.000000   \n",
              "50%          1.000000      1.000000             NaN      0.000000   \n",
              "75%          1.000000      1.000000             NaN      0.000000   \n",
              "max          1.000000      1.000000             NaN      1.000000   \n",
              "\n",
              "                Село    Иностранец КодФакультета  СрБаллАттестата  \\\n",
              "count   13498.000000  13274.000000  13584.000000     13584.000000   \n",
              "unique           NaN           NaN           NaN              NaN   \n",
              "top              NaN           NaN           NaN              NaN   \n",
              "freq             NaN           NaN           NaN              NaN   \n",
              "mean        0.229441      0.070589     32.500368        73.223274   \n",
              "std         0.420489      0.256147      8.458150       258.045027   \n",
              "min         0.000000      0.000000     24.000000         0.000000   \n",
              "25%         0.000000      0.000000     26.000000        47.000000   \n",
              "50%         0.000000      0.000000     28.000000        61.000000   \n",
              "75%         0.000000      0.000000     40.000000        75.000000   \n",
              "max         1.000000      1.000000     53.000000      5000.000000   \n",
              "\n",
              "              Статус  \n",
              "count   13584.000000  \n",
              "unique           NaN  \n",
              "top              NaN  \n",
              "freq             NaN  \n",
              "mean        3.426458  \n",
              "std         1.071765  \n",
              "min        -1.000000  \n",
              "25%         3.000000  \n",
              "50%         4.000000  \n",
              "75%         4.000000  \n",
              "max         4.000000  \n",
              "\n",
              "[11 rows x 24 columns]"
            ],
            "text/html": [
              "\n",
              "  <div id=\"df-a7871dd9-fa52-48db-9c26-bc60fe177126\">\n",
              "    <div class=\"colab-df-container\">\n",
              "      <div>\n",
              "<style scoped>\n",
              "    .dataframe tbody tr th:only-of-type {\n",
              "        vertical-align: middle;\n",
              "    }\n",
              "\n",
              "    .dataframe tbody tr th {\n",
              "        vertical-align: top;\n",
              "    }\n",
              "\n",
              "    .dataframe thead th {\n",
              "        text-align: right;\n",
              "    }\n",
              "</style>\n",
              "<table border=\"1\" class=\"dataframe\">\n",
              "  <thead>\n",
              "    <tr style=\"text-align: right;\">\n",
              "      <th></th>\n",
              "      <th>ID</th>\n",
              "      <th>Код_группы</th>\n",
              "      <th>Год_Поступления</th>\n",
              "      <th>Пол</th>\n",
              "      <th>Основания</th>\n",
              "      <th>Изучаемый_Язык</th>\n",
              "      <th>Дата_Рождения</th>\n",
              "      <th>Уч_Заведение</th>\n",
              "      <th>Где_Находится_УЗ</th>\n",
              "      <th>Год_Окончания_УЗ</th>\n",
              "      <th>...</th>\n",
              "      <th>Общежитие</th>\n",
              "      <th>Наличие_Матери</th>\n",
              "      <th>Наличие_Отца</th>\n",
              "      <th>Страна_Родители</th>\n",
              "      <th>Опекунство</th>\n",
              "      <th>Село</th>\n",
              "      <th>Иностранец</th>\n",
              "      <th>КодФакультета</th>\n",
              "      <th>СрБаллАттестата</th>\n",
              "      <th>Статус</th>\n",
              "    </tr>\n",
              "  </thead>\n",
              "  <tbody>\n",
              "    <tr>\n",
              "      <th>count</th>\n",
              "      <td>13584.000000</td>\n",
              "      <td>13584.000000</td>\n",
              "      <td>13584.000000</td>\n",
              "      <td>13577</td>\n",
              "      <td>13584</td>\n",
              "      <td>12758</td>\n",
              "      <td>13584</td>\n",
              "      <td>12351</td>\n",
              "      <td>12203</td>\n",
              "      <td>12284.000000</td>\n",
              "      <td>...</td>\n",
              "      <td>13498.000000</td>\n",
              "      <td>13584.000000</td>\n",
              "      <td>13584.000000</td>\n",
              "      <td>13126</td>\n",
              "      <td>13584.000000</td>\n",
              "      <td>13498.000000</td>\n",
              "      <td>13274.000000</td>\n",
              "      <td>13584.000000</td>\n",
              "      <td>13584.000000</td>\n",
              "      <td>13584.000000</td>\n",
              "    </tr>\n",
              "    <tr>\n",
              "      <th>unique</th>\n",
              "      <td>NaN</td>\n",
              "      <td>NaN</td>\n",
              "      <td>NaN</td>\n",
              "      <td>3</td>\n",
              "      <td>5</td>\n",
              "      <td>7</td>\n",
              "      <td>5044</td>\n",
              "      <td>3646</td>\n",
              "      <td>2110</td>\n",
              "      <td>NaN</td>\n",
              "      <td>...</td>\n",
              "      <td>NaN</td>\n",
              "      <td>NaN</td>\n",
              "      <td>NaN</td>\n",
              "      <td>19</td>\n",
              "      <td>NaN</td>\n",
              "      <td>NaN</td>\n",
              "      <td>NaN</td>\n",
              "      <td>NaN</td>\n",
              "      <td>NaN</td>\n",
              "      <td>NaN</td>\n",
              "    </tr>\n",
              "    <tr>\n",
              "      <th>top</th>\n",
              "      <td>NaN</td>\n",
              "      <td>NaN</td>\n",
              "      <td>NaN</td>\n",
              "      <td>Жен</td>\n",
              "      <td>ОО</td>\n",
              "      <td>Английский язык</td>\n",
              "      <td>1995-08-07 00:00:00.000</td>\n",
              "      <td>ФГБОУ ВО Алтайский государственный университет</td>\n",
              "      <td>Алтайский край, Барнаул г</td>\n",
              "      <td>NaN</td>\n",
              "      <td>...</td>\n",
              "      <td>NaN</td>\n",
              "      <td>NaN</td>\n",
              "      <td>NaN</td>\n",
              "      <td>Россия</td>\n",
              "      <td>NaN</td>\n",
              "      <td>NaN</td>\n",
              "      <td>NaN</td>\n",
              "      <td>NaN</td>\n",
              "      <td>NaN</td>\n",
              "      <td>NaN</td>\n",
              "    </tr>\n",
              "    <tr>\n",
              "      <th>freq</th>\n",
              "      <td>NaN</td>\n",
              "      <td>NaN</td>\n",
              "      <td>NaN</td>\n",
              "      <td>8133</td>\n",
              "      <td>5084</td>\n",
              "      <td>10450</td>\n",
              "      <td>16</td>\n",
              "      <td>1359</td>\n",
              "      <td>2413</td>\n",
              "      <td>NaN</td>\n",
              "      <td>...</td>\n",
              "      <td>NaN</td>\n",
              "      <td>NaN</td>\n",
              "      <td>NaN</td>\n",
              "      <td>12239</td>\n",
              "      <td>NaN</td>\n",
              "      <td>NaN</td>\n",
              "      <td>NaN</td>\n",
              "      <td>NaN</td>\n",
              "      <td>NaN</td>\n",
              "      <td>NaN</td>\n",
              "    </tr>\n",
              "    <tr>\n",
              "      <th>mean</th>\n",
              "      <td>70096.056905</td>\n",
              "      <td>18302.499926</td>\n",
              "      <td>2014.992123</td>\n",
              "      <td>NaN</td>\n",
              "      <td>NaN</td>\n",
              "      <td>NaN</td>\n",
              "      <td>NaN</td>\n",
              "      <td>NaN</td>\n",
              "      <td>NaN</td>\n",
              "      <td>2013.876018</td>\n",
              "      <td>...</td>\n",
              "      <td>0.219884</td>\n",
              "      <td>0.511484</td>\n",
              "      <td>0.509570</td>\n",
              "      <td>NaN</td>\n",
              "      <td>0.000442</td>\n",
              "      <td>0.229441</td>\n",
              "      <td>0.070589</td>\n",
              "      <td>32.500368</td>\n",
              "      <td>73.223274</td>\n",
              "      <td>3.426458</td>\n",
              "    </tr>\n",
              "    <tr>\n",
              "      <th>std</th>\n",
              "      <td>12705.894531</td>\n",
              "      <td>2540.417956</td>\n",
              "      <td>2.595339</td>\n",
              "      <td>NaN</td>\n",
              "      <td>NaN</td>\n",
              "      <td>NaN</td>\n",
              "      <td>NaN</td>\n",
              "      <td>NaN</td>\n",
              "      <td>NaN</td>\n",
              "      <td>4.247111</td>\n",
              "      <td>...</td>\n",
              "      <td>0.414184</td>\n",
              "      <td>0.499886</td>\n",
              "      <td>0.499927</td>\n",
              "      <td>NaN</td>\n",
              "      <td>0.021013</td>\n",
              "      <td>0.420489</td>\n",
              "      <td>0.256147</td>\n",
              "      <td>8.458150</td>\n",
              "      <td>258.045027</td>\n",
              "      <td>1.071765</td>\n",
              "    </tr>\n",
              "    <tr>\n",
              "      <th>min</th>\n",
              "      <td>44632.000000</td>\n",
              "      <td>11550.000000</td>\n",
              "      <td>2001.000000</td>\n",
              "      <td>NaN</td>\n",
              "      <td>NaN</td>\n",
              "      <td>NaN</td>\n",
              "      <td>NaN</td>\n",
              "      <td>NaN</td>\n",
              "      <td>NaN</td>\n",
              "      <td>1973.000000</td>\n",
              "      <td>...</td>\n",
              "      <td>0.000000</td>\n",
              "      <td>0.000000</td>\n",
              "      <td>0.000000</td>\n",
              "      <td>NaN</td>\n",
              "      <td>0.000000</td>\n",
              "      <td>0.000000</td>\n",
              "      <td>0.000000</td>\n",
              "      <td>24.000000</td>\n",
              "      <td>0.000000</td>\n",
              "      <td>-1.000000</td>\n",
              "    </tr>\n",
              "    <tr>\n",
              "      <th>25%</th>\n",
              "      <td>63496.750000</td>\n",
              "      <td>16901.000000</td>\n",
              "      <td>2013.000000</td>\n",
              "      <td>NaN</td>\n",
              "      <td>NaN</td>\n",
              "      <td>NaN</td>\n",
              "      <td>NaN</td>\n",
              "      <td>NaN</td>\n",
              "      <td>NaN</td>\n",
              "      <td>2013.000000</td>\n",
              "      <td>...</td>\n",
              "      <td>0.000000</td>\n",
              "      <td>0.000000</td>\n",
              "      <td>0.000000</td>\n",
              "      <td>NaN</td>\n",
              "      <td>0.000000</td>\n",
              "      <td>0.000000</td>\n",
              "      <td>0.000000</td>\n",
              "      <td>26.000000</td>\n",
              "      <td>47.000000</td>\n",
              "      <td>3.000000</td>\n",
              "    </tr>\n",
              "    <tr>\n",
              "      <th>50%</th>\n",
              "      <td>71401.500000</td>\n",
              "      <td>18534.500000</td>\n",
              "      <td>2015.000000</td>\n",
              "      <td>NaN</td>\n",
              "      <td>NaN</td>\n",
              "      <td>NaN</td>\n",
              "      <td>NaN</td>\n",
              "      <td>NaN</td>\n",
              "      <td>NaN</td>\n",
              "      <td>2015.000000</td>\n",
              "      <td>...</td>\n",
              "      <td>0.000000</td>\n",
              "      <td>1.000000</td>\n",
              "      <td>1.000000</td>\n",
              "      <td>NaN</td>\n",
              "      <td>0.000000</td>\n",
              "      <td>0.000000</td>\n",
              "      <td>0.000000</td>\n",
              "      <td>28.000000</td>\n",
              "      <td>61.000000</td>\n",
              "      <td>4.000000</td>\n",
              "    </tr>\n",
              "    <tr>\n",
              "      <th>75%</th>\n",
              "      <td>78404.250000</td>\n",
              "      <td>20599.000000</td>\n",
              "      <td>2016.000000</td>\n",
              "      <td>NaN</td>\n",
              "      <td>NaN</td>\n",
              "      <td>NaN</td>\n",
              "      <td>NaN</td>\n",
              "      <td>NaN</td>\n",
              "      <td>NaN</td>\n",
              "      <td>2016.000000</td>\n",
              "      <td>...</td>\n",
              "      <td>0.000000</td>\n",
              "      <td>1.000000</td>\n",
              "      <td>1.000000</td>\n",
              "      <td>NaN</td>\n",
              "      <td>0.000000</td>\n",
              "      <td>0.000000</td>\n",
              "      <td>0.000000</td>\n",
              "      <td>40.000000</td>\n",
              "      <td>75.000000</td>\n",
              "      <td>4.000000</td>\n",
              "    </tr>\n",
              "    <tr>\n",
              "      <th>max</th>\n",
              "      <td>264403.000000</td>\n",
              "      <td>22824.000000</td>\n",
              "      <td>2212.000000</td>\n",
              "      <td>NaN</td>\n",
              "      <td>NaN</td>\n",
              "      <td>NaN</td>\n",
              "      <td>NaN</td>\n",
              "      <td>NaN</td>\n",
              "      <td>NaN</td>\n",
              "      <td>2020.000000</td>\n",
              "      <td>...</td>\n",
              "      <td>1.000000</td>\n",
              "      <td>1.000000</td>\n",
              "      <td>1.000000</td>\n",
              "      <td>NaN</td>\n",
              "      <td>1.000000</td>\n",
              "      <td>1.000000</td>\n",
              "      <td>1.000000</td>\n",
              "      <td>53.000000</td>\n",
              "      <td>5000.000000</td>\n",
              "      <td>4.000000</td>\n",
              "    </tr>\n",
              "  </tbody>\n",
              "</table>\n",
              "<p>11 rows × 24 columns</p>\n",
              "</div>\n",
              "      <button class=\"colab-df-convert\" onclick=\"convertToInteractive('df-a7871dd9-fa52-48db-9c26-bc60fe177126')\"\n",
              "              title=\"Convert this dataframe to an interactive table.\"\n",
              "              style=\"display:none;\">\n",
              "        \n",
              "  <svg xmlns=\"http://www.w3.org/2000/svg\" height=\"24px\"viewBox=\"0 0 24 24\"\n",
              "       width=\"24px\">\n",
              "    <path d=\"M0 0h24v24H0V0z\" fill=\"none\"/>\n",
              "    <path d=\"M18.56 5.44l.94 2.06.94-2.06 2.06-.94-2.06-.94-.94-2.06-.94 2.06-2.06.94zm-11 1L8.5 8.5l.94-2.06 2.06-.94-2.06-.94L8.5 2.5l-.94 2.06-2.06.94zm10 10l.94 2.06.94-2.06 2.06-.94-2.06-.94-.94-2.06-.94 2.06-2.06.94z\"/><path d=\"M17.41 7.96l-1.37-1.37c-.4-.4-.92-.59-1.43-.59-.52 0-1.04.2-1.43.59L10.3 9.45l-7.72 7.72c-.78.78-.78 2.05 0 2.83L4 21.41c.39.39.9.59 1.41.59.51 0 1.02-.2 1.41-.59l7.78-7.78 2.81-2.81c.8-.78.8-2.07 0-2.86zM5.41 20L4 18.59l7.72-7.72 1.47 1.35L5.41 20z\"/>\n",
              "  </svg>\n",
              "      </button>\n",
              "      \n",
              "  <style>\n",
              "    .colab-df-container {\n",
              "      display:flex;\n",
              "      flex-wrap:wrap;\n",
              "      gap: 12px;\n",
              "    }\n",
              "\n",
              "    .colab-df-convert {\n",
              "      background-color: #E8F0FE;\n",
              "      border: none;\n",
              "      border-radius: 50%;\n",
              "      cursor: pointer;\n",
              "      display: none;\n",
              "      fill: #1967D2;\n",
              "      height: 32px;\n",
              "      padding: 0 0 0 0;\n",
              "      width: 32px;\n",
              "    }\n",
              "\n",
              "    .colab-df-convert:hover {\n",
              "      background-color: #E2EBFA;\n",
              "      box-shadow: 0px 1px 2px rgba(60, 64, 67, 0.3), 0px 1px 3px 1px rgba(60, 64, 67, 0.15);\n",
              "      fill: #174EA6;\n",
              "    }\n",
              "\n",
              "    [theme=dark] .colab-df-convert {\n",
              "      background-color: #3B4455;\n",
              "      fill: #D2E3FC;\n",
              "    }\n",
              "\n",
              "    [theme=dark] .colab-df-convert:hover {\n",
              "      background-color: #434B5C;\n",
              "      box-shadow: 0px 1px 3px 1px rgba(0, 0, 0, 0.15);\n",
              "      filter: drop-shadow(0px 1px 2px rgba(0, 0, 0, 0.3));\n",
              "      fill: #FFFFFF;\n",
              "    }\n",
              "  </style>\n",
              "\n",
              "      <script>\n",
              "        const buttonEl =\n",
              "          document.querySelector('#df-a7871dd9-fa52-48db-9c26-bc60fe177126 button.colab-df-convert');\n",
              "        buttonEl.style.display =\n",
              "          google.colab.kernel.accessAllowed ? 'block' : 'none';\n",
              "\n",
              "        async function convertToInteractive(key) {\n",
              "          const element = document.querySelector('#df-a7871dd9-fa52-48db-9c26-bc60fe177126');\n",
              "          const dataTable =\n",
              "            await google.colab.kernel.invokeFunction('convertToInteractive',\n",
              "                                                     [key], {});\n",
              "          if (!dataTable) return;\n",
              "\n",
              "          const docLinkHtml = 'Like what you see? Visit the ' +\n",
              "            '<a target=\"_blank\" href=https://colab.research.google.com/notebooks/data_table.ipynb>data table notebook</a>'\n",
              "            + ' to learn more about interactive tables.';\n",
              "          element.innerHTML = '';\n",
              "          dataTable['output_type'] = 'display_data';\n",
              "          await google.colab.output.renderOutput(dataTable, element);\n",
              "          const docLink = document.createElement('div');\n",
              "          docLink.innerHTML = docLinkHtml;\n",
              "          element.appendChild(docLink);\n",
              "        }\n",
              "      </script>\n",
              "    </div>\n",
              "  </div>\n",
              "  "
            ]
          },
          "metadata": {},
          "execution_count": 12
        }
      ]
    },
    {
      "cell_type": "code",
      "source": [
        "df.info()"
      ],
      "metadata": {
        "colab": {
          "base_uri": "https://localhost:8080/"
        },
        "id": "8tz2oyv_96Nq",
        "outputId": "4727f104-7a7d-4629-f3ac-9d2a0770054e"
      },
      "execution_count": null,
      "outputs": [
        {
          "output_type": "stream",
          "name": "stdout",
          "text": [
            "<class 'pandas.core.frame.DataFrame'>\n",
            "RangeIndex: 13584 entries, 0 to 13583\n",
            "Data columns (total 24 columns):\n",
            " #   Column            Non-Null Count  Dtype  \n",
            "---  ------            --------------  -----  \n",
            " 0   ID                13584 non-null  int64  \n",
            " 1   Код_группы        13584 non-null  int64  \n",
            " 2   Год_Поступления   13584 non-null  int64  \n",
            " 3   Пол               13577 non-null  object \n",
            " 4   Основания         13584 non-null  object \n",
            " 5   Изучаемый_Язык    12758 non-null  object \n",
            " 6   Дата_Рождения     13584 non-null  object \n",
            " 7   Уч_Заведение      12351 non-null  object \n",
            " 8   Где_Находится_УЗ  12203 non-null  object \n",
            " 9   Год_Окончания_УЗ  12284 non-null  float64\n",
            " 10  Пособие           12576 non-null  float64\n",
            " 11  Страна_ПП         13237 non-null  object \n",
            " 12  Регион_ПП         12966 non-null  object \n",
            " 13  Город_ПП          13141 non-null  object \n",
            " 14  Общежитие         13498 non-null  float64\n",
            " 15  Наличие_Матери    13584 non-null  int64  \n",
            " 16  Наличие_Отца      13584 non-null  float64\n",
            " 17  Страна_Родители   13126 non-null  object \n",
            " 18  Опекунство        13584 non-null  float64\n",
            " 19  Село              13498 non-null  float64\n",
            " 20  Иностранец        13274 non-null  float64\n",
            " 21  КодФакультета     13584 non-null  float64\n",
            " 22  СрБаллАттестата   13584 non-null  float64\n",
            " 23  Статус            13584 non-null  int64  \n",
            "dtypes: float64(9), int64(5), object(10)\n",
            "memory usage: 2.5+ MB\n"
          ]
        }
      ]
    },
    {
      "cell_type": "markdown",
      "source": [
        "# Work with data"
      ],
      "metadata": {
        "id": "jHtlLBrx9XdY"
      }
    },
    {
      "cell_type": "markdown",
      "source": [
        "Уберём лишние столбцы"
      ],
      "metadata": {
        "id": "2S7744GB_9xs"
      }
    },
    {
      "cell_type": "code",
      "source": [
        "df=df.drop([\"Пособие\",\"Опекунство\"],axis=1)"
      ],
      "metadata": {
        "id": "PGZRAemS_8ZL"
      },
      "execution_count": null,
      "outputs": []
    },
    {
      "cell_type": "code",
      "source": [
        "df=df.drop(\"ID\",axis=1)"
      ],
      "metadata": {
        "id": "v44dTa65EZQP"
      },
      "execution_count": null,
      "outputs": []
    },
    {
      "cell_type": "code",
      "source": [],
      "metadata": {
        "id": "C8eYz_iOFzS5"
      },
      "execution_count": null,
      "outputs": []
    },
    {
      "cell_type": "markdown",
      "source": [
        "Приведём балл к одной шкале"
      ],
      "metadata": {
        "id": "kMpewmEhF2lj"
      }
    },
    {
      "cell_type": "code",
      "source": [
        "df[\"СрБаллАттестата\"]=df[\"СрБаллАттестата\"].apply(lambda x: 2*x if 0<x<=5 else x/10 if 10<x<=100 else x/100 if 100<x<=1000 else x/1000)"
      ],
      "metadata": {
        "id": "GY7D_3LLBpMW"
      },
      "execution_count": null,
      "outputs": []
    },
    {
      "cell_type": "markdown",
      "source": [
        "Дропнем Nan-ы"
      ],
      "metadata": {
        "id": "fF_r2NKbE9Sz"
      }
    },
    {
      "cell_type": "code",
      "source": [
        "df[cat]=df[cat].fillna(\"Nan\")\n",
        "df[num]=df[num].fillna(0)"
      ],
      "metadata": {
        "id": "Tvcr6RmnE8lb"
      },
      "execution_count": null,
      "outputs": []
    },
    {
      "cell_type": "markdown",
      "source": [
        "Разберёмся с г в городах"
      ],
      "metadata": {
        "id": "GrWDN2CwGIKe"
      }
    },
    {
      "cell_type": "code",
      "source": [
        "df[\"Город_ПП\"].value_counts()"
      ],
      "metadata": {
        "colab": {
          "base_uri": "https://localhost:8080/"
        },
        "id": "2lt2gHfG4DzG",
        "outputId": "b2e68d94-7b02-4295-efa3-ea6e306471b0"
      },
      "execution_count": null,
      "outputs": [
        {
          "output_type": "execute_result",
          "data": {
            "text/plain": [
              "Барнаул г         3735\n",
              "г. Барнаул        1727\n",
              "Барнаул           1174\n",
              "Nan                443\n",
              "Бийск г            246\n",
              "                  ... \n",
              "Марушка              1\n",
              "с. Гилево            1\n",
              "Чернышевский п       1\n",
              "Кисилёвск г          1\n",
              "Шила с               1\n",
              "Name: Город_ПП, Length: 1766, dtype: int64"
            ]
          },
          "metadata": {},
          "execution_count": 16
        }
      ]
    },
    {
      "cell_type": "code",
      "source": [
        "df.loc[:,\"Город_ПП\"]=df.loc[:,\"Город_ПП\"].apply(lambda x: max(x.split(),key=len,default=\"Nan\"))"
      ],
      "metadata": {
        "id": "U_GGb4aIGFAB"
      },
      "execution_count": null,
      "outputs": []
    },
    {
      "cell_type": "code",
      "source": [
        "df[\"Город_ПП\"].value_counts()"
      ],
      "metadata": {
        "colab": {
          "base_uri": "https://localhost:8080/"
        },
        "id": "YtRxokwF2yXV",
        "outputId": "4d54348b-5eca-4787-9068-bb8260b6504e"
      },
      "execution_count": null,
      "outputs": [
        {
          "output_type": "execute_result",
          "data": {
            "text/plain": [
              "Барнаул        6791\n",
              "Бийск           537\n",
              "Nan             485\n",
              "Новоалтайск     396\n",
              "Рубцовск        190\n",
              "               ... \n",
              "Бурганды          1\n",
              "Хохряки           1\n",
              "-                 1\n",
              "Логовской         1\n",
              "Шила              1\n",
              "Name: Город_ПП, Length: 1196, dtype: int64"
            ]
          },
          "metadata": {},
          "execution_count": 18
        }
      ]
    },
    {
      "cell_type": "markdown",
      "source": [
        "Разберёмся с языками"
      ],
      "metadata": {
        "id": "Nc8t_vJ1Mlda"
      }
    },
    {
      "cell_type": "code",
      "source": [
        "df.loc[:,\"Изучаемый_Язык\"]=df.loc[:,\"Изучаемый_Язык\"].apply(lambda x: x.split()[0][:3] if (len(x.split())==1 or len(x.split())==2) else x.split()[-1][1:4])"
      ],
      "metadata": {
        "id": "piKtV8rCM1U4"
      },
      "execution_count": null,
      "outputs": []
    },
    {
      "cell_type": "markdown",
      "source": [
        "уберем родителей"
      ],
      "metadata": {
        "id": "CrqjUdVkQ_7M"
      }
    },
    {
      "cell_type": "code",
      "source": [
        "df=df.drop(\"Страна_Родители\",axis=1)"
      ],
      "metadata": {
        "id": "Pn9EnYXXQ-71"
      },
      "execution_count": null,
      "outputs": []
    },
    {
      "cell_type": "code",
      "source": [
        "def reg(x):\n",
        "  if \"Республика\" in x:\n",
        "    x.remove(\"Республика\")\n",
        "  if \"республика\" in x:\n",
        "    x.remove(\"республика\")\n",
        "  if \"Провинция\" in x:\n",
        "    x.remove(\"Провинция\")\n",
        "  if \"провинция\" in x:\n",
        "    x.remove(\"провинция\")\n",
        "  return x"
      ],
      "metadata": {
        "id": "HbGFLD0Hq5nh"
      },
      "execution_count": null,
      "outputs": []
    },
    {
      "cell_type": "code",
      "source": [
        "df.loc[:,\"Регион_ПП\"]=df.loc[:,\"Регион_ПП\"].apply(lambda x: max(reg(x.split()),key=len))"
      ],
      "metadata": {
        "id": "FV0YjUCxpoZn"
      },
      "execution_count": null,
      "outputs": []
    },
    {
      "cell_type": "code",
      "source": [
        "df.head()"
      ],
      "metadata": {
        "colab": {
          "base_uri": "https://localhost:8080/",
          "height": 444
        },
        "id": "34QGrug7bnGo",
        "outputId": "25579bf5-89e2-4cfb-f720-6a7b0eb97143"
      },
      "execution_count": null,
      "outputs": [
        {
          "output_type": "execute_result",
          "data": {
            "text/plain": [
              "   Код_группы  Год_Поступления  Пол Основания Изучаемый_Язык  \\\n",
              "0       16019             2015  Жен        ОО            Анг   \n",
              "1       14895             2010  Муж        ЦН            Nan   \n",
              "2       20103             2017  Жен        ДН            Анг   \n",
              "3       19838             2017  Жен        БН            Анг   \n",
              "4       19803             2017  Жен        БН            Анг   \n",
              "\n",
              "             Дата_Рождения                                    Уч_Заведение  \\\n",
              "0  1998-02-08 00:00:00.000                                  МБОУ \"СОШ №59\"   \n",
              "1  1992-04-18 00:00:00.000                                             Nan   \n",
              "2  1999-03-21 00:00:00.000                           МБОУ Алтайская СОШ №5   \n",
              "3  1994-12-08 00:00:00.000  ФГБОУ ВО Алтайский государственный университет   \n",
              "4  1995-06-28 00:00:00.000  ФГБОУ ВО Алтайский государственный университет   \n",
              "\n",
              "                             Где_Находится_УЗ  Год_Окончания_УЗ Страна_ПП  \\\n",
              "0                   Алтайский край, Барнаул г            2014.0    Россия   \n",
              "1                                         Nan               0.0    Россия   \n",
              "2  Алтайский край, Алтайский р-н, Алтайское с            2017.0    Россия   \n",
              "3                  Алтайский край, г. Барнаул            2017.0    Россия   \n",
              "4                  Алтайский край, г. Барнаул            2017.0    Россия   \n",
              "\n",
              "   Регион_ПП   Город_ПП  Общежитие  Наличие_Матери  Наличие_Отца  Село  \\\n",
              "0  Алтайский    Барнаул        0.0               0           0.0   0.0   \n",
              "1  Алтайский    Барнаул        0.0               1           1.0   0.0   \n",
              "2  Алтайский  Алтайское        0.0               1           1.0   0.0   \n",
              "3  Алтайский    Барнаул        0.0               1           1.0   0.0   \n",
              "4  Алтайский    Барнаул        0.0               1           1.0   0.0   \n",
              "\n",
              "   Иностранец  КодФакультета  СрБаллАттестата  Статус  \n",
              "0         0.0           41.0            8.588       3  \n",
              "1         0.0           28.0            6.700       4  \n",
              "2         0.0           41.0            8.266       4  \n",
              "3         0.0           35.0            7.400       4  \n",
              "4         0.0           28.0            5.300       4  "
            ],
            "text/html": [
              "\n",
              "  <div id=\"df-58601c48-bd71-47cd-9b39-53430a978daa\">\n",
              "    <div class=\"colab-df-container\">\n",
              "      <div>\n",
              "<style scoped>\n",
              "    .dataframe tbody tr th:only-of-type {\n",
              "        vertical-align: middle;\n",
              "    }\n",
              "\n",
              "    .dataframe tbody tr th {\n",
              "        vertical-align: top;\n",
              "    }\n",
              "\n",
              "    .dataframe thead th {\n",
              "        text-align: right;\n",
              "    }\n",
              "</style>\n",
              "<table border=\"1\" class=\"dataframe\">\n",
              "  <thead>\n",
              "    <tr style=\"text-align: right;\">\n",
              "      <th></th>\n",
              "      <th>Код_группы</th>\n",
              "      <th>Год_Поступления</th>\n",
              "      <th>Пол</th>\n",
              "      <th>Основания</th>\n",
              "      <th>Изучаемый_Язык</th>\n",
              "      <th>Дата_Рождения</th>\n",
              "      <th>Уч_Заведение</th>\n",
              "      <th>Где_Находится_УЗ</th>\n",
              "      <th>Год_Окончания_УЗ</th>\n",
              "      <th>Страна_ПП</th>\n",
              "      <th>Регион_ПП</th>\n",
              "      <th>Город_ПП</th>\n",
              "      <th>Общежитие</th>\n",
              "      <th>Наличие_Матери</th>\n",
              "      <th>Наличие_Отца</th>\n",
              "      <th>Село</th>\n",
              "      <th>Иностранец</th>\n",
              "      <th>КодФакультета</th>\n",
              "      <th>СрБаллАттестата</th>\n",
              "      <th>Статус</th>\n",
              "    </tr>\n",
              "  </thead>\n",
              "  <tbody>\n",
              "    <tr>\n",
              "      <th>0</th>\n",
              "      <td>16019</td>\n",
              "      <td>2015</td>\n",
              "      <td>Жен</td>\n",
              "      <td>ОО</td>\n",
              "      <td>Анг</td>\n",
              "      <td>1998-02-08 00:00:00.000</td>\n",
              "      <td>МБОУ \"СОШ №59\"</td>\n",
              "      <td>Алтайский край, Барнаул г</td>\n",
              "      <td>2014.0</td>\n",
              "      <td>Россия</td>\n",
              "      <td>Алтайский</td>\n",
              "      <td>Барнаул</td>\n",
              "      <td>0.0</td>\n",
              "      <td>0</td>\n",
              "      <td>0.0</td>\n",
              "      <td>0.0</td>\n",
              "      <td>0.0</td>\n",
              "      <td>41.0</td>\n",
              "      <td>8.588</td>\n",
              "      <td>3</td>\n",
              "    </tr>\n",
              "    <tr>\n",
              "      <th>1</th>\n",
              "      <td>14895</td>\n",
              "      <td>2010</td>\n",
              "      <td>Муж</td>\n",
              "      <td>ЦН</td>\n",
              "      <td>Nan</td>\n",
              "      <td>1992-04-18 00:00:00.000</td>\n",
              "      <td>Nan</td>\n",
              "      <td>Nan</td>\n",
              "      <td>0.0</td>\n",
              "      <td>Россия</td>\n",
              "      <td>Алтайский</td>\n",
              "      <td>Барнаул</td>\n",
              "      <td>0.0</td>\n",
              "      <td>1</td>\n",
              "      <td>1.0</td>\n",
              "      <td>0.0</td>\n",
              "      <td>0.0</td>\n",
              "      <td>28.0</td>\n",
              "      <td>6.700</td>\n",
              "      <td>4</td>\n",
              "    </tr>\n",
              "    <tr>\n",
              "      <th>2</th>\n",
              "      <td>20103</td>\n",
              "      <td>2017</td>\n",
              "      <td>Жен</td>\n",
              "      <td>ДН</td>\n",
              "      <td>Анг</td>\n",
              "      <td>1999-03-21 00:00:00.000</td>\n",
              "      <td>МБОУ Алтайская СОШ №5</td>\n",
              "      <td>Алтайский край, Алтайский р-н, Алтайское с</td>\n",
              "      <td>2017.0</td>\n",
              "      <td>Россия</td>\n",
              "      <td>Алтайский</td>\n",
              "      <td>Алтайское</td>\n",
              "      <td>0.0</td>\n",
              "      <td>1</td>\n",
              "      <td>1.0</td>\n",
              "      <td>0.0</td>\n",
              "      <td>0.0</td>\n",
              "      <td>41.0</td>\n",
              "      <td>8.266</td>\n",
              "      <td>4</td>\n",
              "    </tr>\n",
              "    <tr>\n",
              "      <th>3</th>\n",
              "      <td>19838</td>\n",
              "      <td>2017</td>\n",
              "      <td>Жен</td>\n",
              "      <td>БН</td>\n",
              "      <td>Анг</td>\n",
              "      <td>1994-12-08 00:00:00.000</td>\n",
              "      <td>ФГБОУ ВО Алтайский государственный университет</td>\n",
              "      <td>Алтайский край, г. Барнаул</td>\n",
              "      <td>2017.0</td>\n",
              "      <td>Россия</td>\n",
              "      <td>Алтайский</td>\n",
              "      <td>Барнаул</td>\n",
              "      <td>0.0</td>\n",
              "      <td>1</td>\n",
              "      <td>1.0</td>\n",
              "      <td>0.0</td>\n",
              "      <td>0.0</td>\n",
              "      <td>35.0</td>\n",
              "      <td>7.400</td>\n",
              "      <td>4</td>\n",
              "    </tr>\n",
              "    <tr>\n",
              "      <th>4</th>\n",
              "      <td>19803</td>\n",
              "      <td>2017</td>\n",
              "      <td>Жен</td>\n",
              "      <td>БН</td>\n",
              "      <td>Анг</td>\n",
              "      <td>1995-06-28 00:00:00.000</td>\n",
              "      <td>ФГБОУ ВО Алтайский государственный университет</td>\n",
              "      <td>Алтайский край, г. Барнаул</td>\n",
              "      <td>2017.0</td>\n",
              "      <td>Россия</td>\n",
              "      <td>Алтайский</td>\n",
              "      <td>Барнаул</td>\n",
              "      <td>0.0</td>\n",
              "      <td>1</td>\n",
              "      <td>1.0</td>\n",
              "      <td>0.0</td>\n",
              "      <td>0.0</td>\n",
              "      <td>28.0</td>\n",
              "      <td>5.300</td>\n",
              "      <td>4</td>\n",
              "    </tr>\n",
              "  </tbody>\n",
              "</table>\n",
              "</div>\n",
              "      <button class=\"colab-df-convert\" onclick=\"convertToInteractive('df-58601c48-bd71-47cd-9b39-53430a978daa')\"\n",
              "              title=\"Convert this dataframe to an interactive table.\"\n",
              "              style=\"display:none;\">\n",
              "        \n",
              "  <svg xmlns=\"http://www.w3.org/2000/svg\" height=\"24px\"viewBox=\"0 0 24 24\"\n",
              "       width=\"24px\">\n",
              "    <path d=\"M0 0h24v24H0V0z\" fill=\"none\"/>\n",
              "    <path d=\"M18.56 5.44l.94 2.06.94-2.06 2.06-.94-2.06-.94-.94-2.06-.94 2.06-2.06.94zm-11 1L8.5 8.5l.94-2.06 2.06-.94-2.06-.94L8.5 2.5l-.94 2.06-2.06.94zm10 10l.94 2.06.94-2.06 2.06-.94-2.06-.94-.94-2.06-.94 2.06-2.06.94z\"/><path d=\"M17.41 7.96l-1.37-1.37c-.4-.4-.92-.59-1.43-.59-.52 0-1.04.2-1.43.59L10.3 9.45l-7.72 7.72c-.78.78-.78 2.05 0 2.83L4 21.41c.39.39.9.59 1.41.59.51 0 1.02-.2 1.41-.59l7.78-7.78 2.81-2.81c.8-.78.8-2.07 0-2.86zM5.41 20L4 18.59l7.72-7.72 1.47 1.35L5.41 20z\"/>\n",
              "  </svg>\n",
              "      </button>\n",
              "      \n",
              "  <style>\n",
              "    .colab-df-container {\n",
              "      display:flex;\n",
              "      flex-wrap:wrap;\n",
              "      gap: 12px;\n",
              "    }\n",
              "\n",
              "    .colab-df-convert {\n",
              "      background-color: #E8F0FE;\n",
              "      border: none;\n",
              "      border-radius: 50%;\n",
              "      cursor: pointer;\n",
              "      display: none;\n",
              "      fill: #1967D2;\n",
              "      height: 32px;\n",
              "      padding: 0 0 0 0;\n",
              "      width: 32px;\n",
              "    }\n",
              "\n",
              "    .colab-df-convert:hover {\n",
              "      background-color: #E2EBFA;\n",
              "      box-shadow: 0px 1px 2px rgba(60, 64, 67, 0.3), 0px 1px 3px 1px rgba(60, 64, 67, 0.15);\n",
              "      fill: #174EA6;\n",
              "    }\n",
              "\n",
              "    [theme=dark] .colab-df-convert {\n",
              "      background-color: #3B4455;\n",
              "      fill: #D2E3FC;\n",
              "    }\n",
              "\n",
              "    [theme=dark] .colab-df-convert:hover {\n",
              "      background-color: #434B5C;\n",
              "      box-shadow: 0px 1px 3px 1px rgba(0, 0, 0, 0.15);\n",
              "      filter: drop-shadow(0px 1px 2px rgba(0, 0, 0, 0.3));\n",
              "      fill: #FFFFFF;\n",
              "    }\n",
              "  </style>\n",
              "\n",
              "      <script>\n",
              "        const buttonEl =\n",
              "          document.querySelector('#df-58601c48-bd71-47cd-9b39-53430a978daa button.colab-df-convert');\n",
              "        buttonEl.style.display =\n",
              "          google.colab.kernel.accessAllowed ? 'block' : 'none';\n",
              "\n",
              "        async function convertToInteractive(key) {\n",
              "          const element = document.querySelector('#df-58601c48-bd71-47cd-9b39-53430a978daa');\n",
              "          const dataTable =\n",
              "            await google.colab.kernel.invokeFunction('convertToInteractive',\n",
              "                                                     [key], {});\n",
              "          if (!dataTable) return;\n",
              "\n",
              "          const docLinkHtml = 'Like what you see? Visit the ' +\n",
              "            '<a target=\"_blank\" href=https://colab.research.google.com/notebooks/data_table.ipynb>data table notebook</a>'\n",
              "            + ' to learn more about interactive tables.';\n",
              "          element.innerHTML = '';\n",
              "          dataTable['output_type'] = 'display_data';\n",
              "          await google.colab.output.renderOutput(dataTable, element);\n",
              "          const docLink = document.createElement('div');\n",
              "          docLink.innerHTML = docLinkHtml;\n",
              "          element.appendChild(docLink);\n",
              "        }\n",
              "      </script>\n",
              "    </div>\n",
              "  </div>\n",
              "  "
            ]
          },
          "metadata": {},
          "execution_count": 27
        }
      ]
    },
    {
      "cell_type": "markdown",
      "source": [
        "# способ один. через торч без уч заведения"
      ],
      "metadata": {
        "id": "5GfOWbbsolO1"
      }
    },
    {
      "cell_type": "code",
      "source": [
        "#df=df.drop(\"Уч_Заведение\",axis=1)"
      ],
      "metadata": {
        "id": "T0sbBsENogcb"
      },
      "execution_count": null,
      "outputs": []
    },
    {
      "cell_type": "code",
      "source": [
        "#df.head()"
      ],
      "metadata": {
        "id": "vvlkpp6HoLwD"
      },
      "execution_count": null,
      "outputs": []
    },
    {
      "cell_type": "markdown",
      "source": [
        "# Уч заведения в вузы и школы"
      ],
      "metadata": {
        "id": "4EfOIIDMmOeR"
      }
    },
    {
      "cell_type": "code",
      "source": [
        "#gfsd"
      ],
      "metadata": {
        "id": "CguiEysMmVar"
      },
      "execution_count": null,
      "outputs": []
    },
    {
      "cell_type": "markdown",
      "source": [
        "# Даммис"
      ],
      "metadata": {
        "id": "HzrZE3P4mHb4"
      }
    },
    {
      "cell_type": "code",
      "source": [
        "#df=pd.get_dummies(df)"
      ],
      "metadata": {
        "id": "GEBpf_-7wX87"
      },
      "execution_count": null,
      "outputs": []
    },
    {
      "cell_type": "markdown",
      "source": [
        "# пишем нейронку"
      ],
      "metadata": {
        "id": "SviAg5aaxnFY"
      }
    },
    {
      "cell_type": "code",
      "source": [
        "data2=df.copy()"
      ],
      "metadata": {
        "id": "pqui0DramsHG"
      },
      "execution_count": null,
      "outputs": []
    },
    {
      "cell_type": "code",
      "source": [
        "y=df[\"Статус\"]"
      ],
      "metadata": {
        "id": "duazDqMx0zWw"
      },
      "execution_count": null,
      "outputs": []
    },
    {
      "cell_type": "code",
      "source": [
        "y=y.apply(lambda x: 0if x<0 else 1 if x==3 else 2 if x==4 else x)"
      ],
      "metadata": {
        "id": "xhgUw00M6ti1"
      },
      "execution_count": null,
      "outputs": []
    },
    {
      "cell_type": "code",
      "source": [
        "df=df.drop([\"Статус\"],axis=1)"
      ],
      "metadata": {
        "id": "DPbT4Wrn1dUF"
      },
      "execution_count": null,
      "outputs": []
    },
    {
      "cell_type": "code",
      "source": [
        "X_train, X_valid, y_train, y_valid = train_test_split(df, y, train_size=0.8, random_state=1, stratify=y)"
      ],
      "metadata": {
        "id": "K7OEJdpE0t6l"
      },
      "execution_count": null,
      "outputs": []
    },
    {
      "cell_type": "code",
      "source": [
        "X_train = torch.FloatTensor(X_train.values)\n",
        "X_valid = torch.FloatTensor(X_valid.values)\n",
        "y_train = torch.LongTensor(y_train.values)\n",
        "y_valid = torch.LongTensor(y_valid.values)"
      ],
      "metadata": {
        "id": "Fdxljfxt4HCj"
      },
      "execution_count": null,
      "outputs": []
    },
    {
      "cell_type": "code",
      "source": [
        "y"
      ],
      "metadata": {
        "id": "V_lnWNdH9k42"
      },
      "execution_count": null,
      "outputs": []
    },
    {
      "cell_type": "code",
      "source": [
        "y.value_counts()"
      ],
      "metadata": {
        "id": "HokK_M4r-v7A"
      },
      "execution_count": null,
      "outputs": []
    },
    {
      "cell_type": "code",
      "source": [
        "class eduNet(torch.nn.Module):\n",
        "    def __init__(self, n_hidden_neurons):\n",
        "        super(eduNet, self).__init__()\n",
        "\n",
        "        self.fc1 = torch.nn.Linear(7785, n_hidden_neurons)\n",
        "        self.activ1 = torch.nn.Sigmoid()\n",
        "        self.fc2 = torch.nn.Linear(n_hidden_neurons, n_hidden_neurons)\n",
        "        self.activ2 = torch.nn.Sigmoid()\n",
        "        self.fc3 = torch.nn.Linear(n_hidden_neurons, 3)\n",
        "        self.sm = torch.nn.Softmax(dim=1)\n",
        "\n",
        "    def forward(self, x):\n",
        "        x = self.fc1(x)\n",
        "        x = self.activ1(x)\n",
        "        x = self.fc2(x)\n",
        "        x = self.activ2(x)\n",
        "        x = self.fc3(x)\n",
        "        return x\n",
        "\n",
        "    def inference(self, x):\n",
        "        x = self.forward(x)\n",
        "        x = self.sm(x)\n",
        "        return x\n",
        "\n",
        "edu = eduNet(100)"
      ],
      "metadata": {
        "id": "72ZrCkX7wvKW"
      },
      "execution_count": null,
      "outputs": []
    },
    {
      "cell_type": "code",
      "source": [
        "!pip install torchmetrics"
      ],
      "metadata": {
        "id": "cncoooYMz0gX"
      },
      "execution_count": null,
      "outputs": []
    },
    {
      "cell_type": "code",
      "source": [
        "import torch\n",
        "from torchmetrics import F1Score"
      ],
      "metadata": {
        "id": "cJdJyHZNzJsA"
      },
      "execution_count": null,
      "outputs": []
    },
    {
      "cell_type": "code",
      "source": [
        "loss=F1Score(num_classes=3, average=\"macro\")\n",
        "\n",
        "optimizer = torch.optim.SGD(edu.parameters(),\n",
        "                             lr=1.0e-2,momentum=0.7)"
      ],
      "metadata": {
        "id": "ac8I_22byL8Q"
      },
      "execution_count": null,
      "outputs": []
    },
    {
      "cell_type": "code",
      "source": [
        "batch_size = 10\n",
        "\n",
        "for epoch in range(5000):\n",
        "    order = np.random.permutation(len(X_train))\n",
        "    for start_index in range(0, len(X_train), batch_size):\n",
        "        optimizer.zero_grad()\n",
        "\n",
        "        batch_indexes = order[start_index:start_index+batch_size]\n",
        "\n",
        "        x_batch = X_train[batch_indexes]\n",
        "        y_batch = y_train[batch_indexes]\n",
        "\n",
        "        preds = edu.forward(x_batch)\n",
        "\n",
        "        loss_value = loss(preds, y_batch)\n",
        "        loss_value.backward()\n",
        "\n",
        "        optimizer.step()\n",
        "\n",
        "    if epoch % 100 == 0:\n",
        "        test_preds = edu.forward(X_valid)\n",
        "        test_preds = test_preds.argmax(dim=1)\n",
        "        print((test_preds == y_valid).float().mean())"
      ],
      "metadata": {
        "id": "Amejt3Kdy7kg"
      },
      "execution_count": null,
      "outputs": []
    },
    {
      "cell_type": "markdown",
      "source": [
        "# А теперь catboost"
      ],
      "metadata": {
        "id": "qxjrmPb6mg3b"
      }
    },
    {
      "cell_type": "code",
      "source": [
        "df.info()"
      ],
      "metadata": {
        "colab": {
          "base_uri": "https://localhost:8080/"
        },
        "id": "GyGu1ndBoaIR",
        "outputId": "775e2277-b8c8-4903-a337-8afe1b9706fa"
      },
      "execution_count": null,
      "outputs": [
        {
          "output_type": "stream",
          "name": "stdout",
          "text": [
            "<class 'pandas.core.frame.DataFrame'>\n",
            "RangeIndex: 13584 entries, 0 to 13583\n",
            "Data columns (total 20 columns):\n",
            " #   Column            Non-Null Count  Dtype  \n",
            "---  ------            --------------  -----  \n",
            " 0   Код_группы        13584 non-null  int64  \n",
            " 1   Год_Поступления   13584 non-null  int64  \n",
            " 2   Пол               13584 non-null  object \n",
            " 3   Основания         13584 non-null  object \n",
            " 4   Изучаемый_Язык    13584 non-null  object \n",
            " 5   Дата_Рождения     13584 non-null  object \n",
            " 6   Уч_Заведение      13584 non-null  object \n",
            " 7   Где_Находится_УЗ  13584 non-null  object \n",
            " 8   Год_Окончания_УЗ  13584 non-null  float64\n",
            " 9   Страна_ПП         13584 non-null  object \n",
            " 10  Регион_ПП         13584 non-null  object \n",
            " 11  Город_ПП          13584 non-null  object \n",
            " 12  Общежитие         13584 non-null  float64\n",
            " 13  Наличие_Матери    13584 non-null  int64  \n",
            " 14  Наличие_Отца      13584 non-null  float64\n",
            " 15  Село              13584 non-null  float64\n",
            " 16  Иностранец        13584 non-null  float64\n",
            " 17  КодФакультета     13584 non-null  float64\n",
            " 18  СрБаллАттестата   13584 non-null  float64\n",
            " 19  Статус            13584 non-null  int64  \n",
            "dtypes: float64(7), int64(4), object(9)\n",
            "memory usage: 2.1+ MB\n"
          ]
        }
      ]
    },
    {
      "cell_type": "code",
      "source": [
        "cat=[\"Пол\",'Основания','Изучаемый_Язык','Дата_Рождения','Уч_Заведение','Где_Находится_УЗ','Страна_ПП','Регион_ПП','Город_ПП']"
      ],
      "metadata": {
        "id": "S7uY2QHyoXi1"
      },
      "execution_count": null,
      "outputs": []
    },
    {
      "cell_type": "code",
      "source": [
        "df=data2.copy()\n",
        "y=df[\"Статус\"]\n",
        "df=df.drop([\"Статус\"],axis=1)\n",
        "X_train, X_valid, y_train, y_valid = train_test_split(df, y, train_size=0.8, random_state=1, stratify=y)\n",
        "boosting_model = catboost.CatBoostClassifier(n_estimators=10000, learning_rate=0.011, loss_function=\"MultiClassOneVsAll\",\n",
        "                                             cat_features=cat,task_type=\"GPU\")\n",
        "\n",
        "boosting_model.fit(X_train,y_train,plot=True,verbose=35,eval_set=(X_valid,y_valid))\n",
        "y_train_predicted = boosting_model.predict_proba(X_train)[:, 1]\n",
        "y_valid_predicted = boosting_model.predict_proba(X_valid)[:, 1]\n",
        "print(f\"Model params: {boosting_model.get_params()}\")"
      ],
      "metadata": {
        "id": "UZrlMwsEmo3f"
      },
      "execution_count": null,
      "outputs": []
    },
    {
      "cell_type": "code",
      "source": [
        "pred=boosting_model.predict(X_valid)"
      ],
      "metadata": {
        "id": "fxIZR9hNpTPS"
      },
      "execution_count": null,
      "outputs": []
    },
    {
      "cell_type": "code",
      "source": [
        "from sklearn.metrics import f1_score\n",
        "f1_score(y_valid,pred,average=\"macro\",zero_division=0)"
      ],
      "metadata": {
        "colab": {
          "base_uri": "https://localhost:8080/"
        },
        "id": "SKosfXyTpVyA",
        "outputId": "47b03d9c-c7bc-4fe2-deae-e7fb06d38160"
      },
      "execution_count": null,
      "outputs": [
        {
          "output_type": "execute_result",
          "data": {
            "text/plain": [
              "0.7323060803162118"
            ]
          },
          "metadata": {},
          "execution_count": 36
        }
      ]
    },
    {
      "cell_type": "code",
      "source": [
        "params = {'learning_rate':np.arange(0.01,0.03,0.01), 'iterations':np.arange(700,701,1), 'depth':np.arange(7,8,1),'min_data_in_leaf': np.arange(1,2,2)}"
      ],
      "metadata": {
        "id": "GL06pRijsc4Q"
      },
      "execution_count": null,
      "outputs": []
    },
    {
      "cell_type": "code",
      "source": [
        "boosting_model2 = catboost.CatBoostClassifier(cat_features=cat, random_seed=1, verbose=False,task_type=\"GPU\",loss_function=\"MultiClassOneVsAll\")\n",
        "result = boosting_model2.grid_search(params, X_train, y_train)\n",
        "y_train_predicted2 = boosting_model2.predict_proba(X_train)[:, 1]\n",
        "y_valid_predicted2 = boosting_model2.predict_proba(X_valid)[:, 1]"
      ],
      "metadata": {
        "colab": {
          "base_uri": "https://localhost:8080/"
        },
        "id": "wm0jOH2MsdQ5",
        "outputId": "c76f788c-fa0f-4690-d581-36d0d2385caf"
      },
      "execution_count": null,
      "outputs": [
        {
          "output_type": "stream",
          "name": "stdout",
          "text": [
            "bestTest = 0.2545900459\n",
            "bestIteration = 699\n",
            "0:\tloss: 0.2545900\tbest: 0.2545900 (0)\ttotal: 9.91s\tremaining: 9.91s\n",
            "bestTest = 0.2432451432\n",
            "bestIteration = 698\n",
            "1:\tloss: 0.2432451\tbest: 0.2432451 (1)\ttotal: 17.5s\tremaining: 0us\n",
            "Estimating final quality...\n",
            "Training on fold [0/3]\n",
            "bestTest = 0.2408982481\n",
            "bestIteration = 699\n",
            "Training on fold [1/3]\n",
            "bestTest = 0.2391159306\n",
            "bestIteration = 699\n",
            "Training on fold [2/3]\n",
            "bestTest = 0.2379000373\n",
            "bestIteration = 699\n"
          ]
        }
      ]
    },
    {
      "cell_type": "code",
      "source": [
        "result[\"params\"]"
      ],
      "metadata": {
        "colab": {
          "base_uri": "https://localhost:8080/"
        },
        "id": "J4T0UXFA8cVl",
        "outputId": "27c320ed-673a-4259-e2f2-59907f1ebd53"
      },
      "execution_count": null,
      "outputs": [
        {
          "output_type": "execute_result",
          "data": {
            "text/plain": [
              "{'min_data_in_leaf': 1, 'depth': 7, 'iterations': 700, 'learning_rate': 0.02}"
            ]
          },
          "metadata": {},
          "execution_count": 42
        }
      ]
    },
    {
      "cell_type": "code",
      "source": [
        "pred=boosting_model2.predict(X_valid)"
      ],
      "metadata": {
        "id": "-XdkrzX7x-6z"
      },
      "execution_count": null,
      "outputs": []
    },
    {
      "cell_type": "code",
      "source": [
        "from sklearn.metrics import f1_score\n",
        "f1_score(y_valid,pred,average=\"macro\",zero_division=0)"
      ],
      "metadata": {
        "colab": {
          "base_uri": "https://localhost:8080/"
        },
        "id": "wb1knR_byBAA",
        "outputId": "91d9d9f2-bc76-44e7-a815-5cbfd54da273"
      },
      "execution_count": null,
      "outputs": [
        {
          "output_type": "execute_result",
          "data": {
            "text/plain": [
              "0.7346358373649954"
            ]
          },
          "metadata": {},
          "execution_count": 44
        }
      ]
    },
    {
      "cell_type": "markdown",
      "source": [
        "# Работаем над тестом"
      ],
      "metadata": {
        "id": "ExZQCE5dDbOu"
      }
    },
    {
      "cell_type": "code",
      "source": [
        "df=pd.read_csv(\"./test_dataset_test.csv\")"
      ],
      "metadata": {
        "id": "6RabhPBgY1r7",
        "colab": {
          "base_uri": "https://localhost:8080/",
          "height": 165
        },
        "outputId": "b1561f12-bb77-4795-a79f-d6ccc3fdeef4"
      },
      "execution_count": null,
      "outputs": [
        {
          "output_type": "error",
          "ename": "NameError",
          "evalue": "ignored",
          "traceback": [
            "\u001b[0;31m---------------------------------------------------------------------------\u001b[0m",
            "\u001b[0;31mNameError\u001b[0m                                 Traceback (most recent call last)",
            "\u001b[0;32m<ipython-input-1-86fc34f7ff3b>\u001b[0m in \u001b[0;36m<module>\u001b[0;34m\u001b[0m\n\u001b[0;32m----> 1\u001b[0;31m \u001b[0mdf\u001b[0m\u001b[0;34m=\u001b[0m\u001b[0mpd\u001b[0m\u001b[0;34m.\u001b[0m\u001b[0mread_csv\u001b[0m\u001b[0;34m(\u001b[0m\u001b[0;34m\"./test_dataset_test.csv\"\u001b[0m\u001b[0;34m)\u001b[0m\u001b[0;34m\u001b[0m\u001b[0;34m\u001b[0m\u001b[0m\n\u001b[0m",
            "\u001b[0;31mNameError\u001b[0m: name 'pd' is not defined"
          ]
        }
      ]
    },
    {
      "cell_type": "code",
      "source": [
        "df=df.drop([\"Пособие\",\"Опекунство\"],axis=1)"
      ],
      "metadata": {
        "id": "dj-TS0JoD5XE"
      },
      "execution_count": null,
      "outputs": []
    },
    {
      "cell_type": "code",
      "source": [
        "df=df.drop(\"ID\",axis=1)"
      ],
      "metadata": {
        "id": "JaelLYZGD5XX"
      },
      "execution_count": null,
      "outputs": []
    },
    {
      "cell_type": "code",
      "source": [],
      "metadata": {
        "id": "wCYIKqK1D5XY"
      },
      "execution_count": null,
      "outputs": []
    },
    {
      "cell_type": "markdown",
      "source": [
        "Приведём балл к одной шкале"
      ],
      "metadata": {
        "id": "Sn9LsLmsD5XZ"
      }
    },
    {
      "cell_type": "code",
      "source": [
        "df[\"СрБаллАттестата\"]=df[\"СрБаллАттестата\"].apply(lambda x: 2*x if 0<x<=5 else x/10 if 10<x<=100 else x/100 if 100<x<=1000 else x/1000)"
      ],
      "metadata": {
        "id": "KvVT5Zc-D5Xa"
      },
      "execution_count": null,
      "outputs": []
    },
    {
      "cell_type": "markdown",
      "source": [
        "Дропнем Nan-ы"
      ],
      "metadata": {
        "id": "qNdinUZtD5Xa"
      }
    },
    {
      "cell_type": "code",
      "source": [
        "df[cat]=df[cat].fillna(\"Nan\")\n",
        "df[num]=df[num].fillna(0)"
      ],
      "metadata": {
        "id": "GEVf5f_bD5Xb"
      },
      "execution_count": null,
      "outputs": []
    },
    {
      "cell_type": "markdown",
      "source": [
        "Разберёмся с г в городах"
      ],
      "metadata": {
        "id": "qI10wNrvD5Xb"
      }
    },
    {
      "cell_type": "code",
      "source": [
        "df[\"Город_ПП\"].value_counts()"
      ],
      "metadata": {
        "id": "ulYEJy5eD5Xc"
      },
      "execution_count": null,
      "outputs": []
    },
    {
      "cell_type": "code",
      "source": [
        "df.loc[:,\"Город_ПП\"]=df.loc[:,\"Город_ПП\"].apply(lambda x: max(x.split(),key=len,default=\"Nan\"))"
      ],
      "metadata": {
        "id": "sVsYhzAaD5Xd"
      },
      "execution_count": null,
      "outputs": []
    },
    {
      "cell_type": "code",
      "source": [
        "df[\"Город_ПП\"].value_counts()"
      ],
      "metadata": {
        "id": "iHqHUV0zD5Xd"
      },
      "execution_count": null,
      "outputs": []
    },
    {
      "cell_type": "markdown",
      "source": [
        "Разберёмся с языками"
      ],
      "metadata": {
        "id": "LqTX3IWXD5Xe"
      }
    },
    {
      "cell_type": "code",
      "source": [
        "df.loc[:,\"Изучаемый_Язык\"]=df.loc[:,\"Изучаемый_Язык\"].apply(lambda x: x.split()[0][:3] if (len(x.split())==1 or len(x.split())==2) else x.split()[-1][1:4])"
      ],
      "metadata": {
        "id": "r1XhIP1VD5Xe"
      },
      "execution_count": null,
      "outputs": []
    },
    {
      "cell_type": "markdown",
      "source": [
        "уберем родителей"
      ],
      "metadata": {
        "id": "Av7_NMFED5Xf"
      }
    },
    {
      "cell_type": "code",
      "source": [
        "df=df.drop(\"Страна_Родители\",axis=1)"
      ],
      "metadata": {
        "id": "S7tgOP4yD5Xf"
      },
      "execution_count": null,
      "outputs": []
    },
    {
      "cell_type": "code",
      "source": [
        "def reg(x):\n",
        "  if \"Республика\" in x:\n",
        "    x.remove(\"Республика\")\n",
        "  if \"республика\" in x:\n",
        "    x.remove(\"республика\")\n",
        "  if \"Провинция\" in x:\n",
        "    x.remove(\"Провинция\")\n",
        "  if \"провинция\" in x:\n",
        "    x.remove(\"провинция\")\n",
        "  return x"
      ],
      "metadata": {
        "id": "ogZSl8wjD5Xg"
      },
      "execution_count": null,
      "outputs": []
    },
    {
      "cell_type": "code",
      "source": [
        "df.loc[:,\"Регион_ПП\"]=df.loc[:,\"Регион_ПП\"].apply(lambda x: max(reg(x.split()),key=len))"
      ],
      "metadata": {
        "id": "OaGvg69LD5Xg"
      },
      "execution_count": null,
      "outputs": []
    },
    {
      "cell_type": "markdown",
      "source": [
        "# Импортим"
      ],
      "metadata": {
        "id": "1uyMAYobCzQB"
      }
    },
    {
      "cell_type": "code",
      "source": [
        "df_submission=pd.read_csv(\"./sample_submission.csv\")"
      ],
      "metadata": {
        "id": "zrJzI446ZWew"
      },
      "execution_count": null,
      "outputs": []
    },
    {
      "cell_type": "code",
      "source": [
        "df_test[num]=df_test[num].fillna(0)"
      ],
      "metadata": {
        "id": "sPyOZmPnZ1qV"
      },
      "execution_count": null,
      "outputs": []
    },
    {
      "cell_type": "code",
      "source": [
        "df_test[cat]=df_test[cat].fillna(\"Nan\")"
      ],
      "metadata": {
        "id": "flQ0CaMrZ9Hm"
      },
      "execution_count": null,
      "outputs": []
    },
    {
      "cell_type": "code",
      "source": [
        "df_test.info()"
      ],
      "metadata": {
        "colab": {
          "base_uri": "https://localhost:8080/"
        },
        "id": "zgG5_criaoQA",
        "outputId": "7b920840-41e5-4573-d448-c9810d29d33c"
      },
      "execution_count": null,
      "outputs": [
        {
          "output_type": "stream",
          "name": "stdout",
          "text": [
            "<class 'pandas.core.frame.DataFrame'>\n",
            "RangeIndex: 6691 entries, 0 to 6690\n",
            "Data columns (total 23 columns):\n",
            " #   Column            Non-Null Count  Dtype  \n",
            "---  ------            --------------  -----  \n",
            " 0   ID                6691 non-null   int64  \n",
            " 1   Код_группы        6691 non-null   int64  \n",
            " 2   Год_Поступления   6691 non-null   int64  \n",
            " 3   Пол               6691 non-null   object \n",
            " 4   Основания         6691 non-null   object \n",
            " 5   Изучаемый_Язык    6691 non-null   object \n",
            " 6   Дата_Рождения     6691 non-null   object \n",
            " 7   Уч_Заведение      6691 non-null   object \n",
            " 8   Где_Находится_УЗ  6691 non-null   object \n",
            " 9   Год_Окончания_УЗ  6691 non-null   float64\n",
            " 10  Пособие           6691 non-null   float64\n",
            " 11  Страна_ПП         6691 non-null   object \n",
            " 12  Регион_ПП         6691 non-null   object \n",
            " 13  Город_ПП          6691 non-null   object \n",
            " 14  Общежитие         6691 non-null   float64\n",
            " 15  Наличие_Матери    6691 non-null   int64  \n",
            " 16  Наличие_Отца      6691 non-null   float64\n",
            " 17  Страна_Родители   6691 non-null   object \n",
            " 18  Опекунство        6691 non-null   float64\n",
            " 19  Село              6691 non-null   float64\n",
            " 20  Иностранец        6691 non-null   float64\n",
            " 21  КодФакультета     6691 non-null   float64\n",
            " 22  СрБаллАттестата   6691 non-null   float64\n",
            "dtypes: float64(9), int64(4), object(10)\n",
            "memory usage: 1.2+ MB\n"
          ]
        }
      ]
    },
    {
      "cell_type": "code",
      "source": [
        "df_test_pred=boosting_model3.predict(df_test[features])"
      ],
      "metadata": {
        "id": "tk2-ZxzLaQUQ"
      },
      "execution_count": null,
      "outputs": []
    },
    {
      "cell_type": "code",
      "source": [
        "df_submission[\"Статус\"]=df_test_pred\n",
        "df_submission.head()"
      ],
      "metadata": {
        "colab": {
          "base_uri": "https://localhost:8080/",
          "height": 206
        },
        "id": "QufowPSpbWPK",
        "outputId": "a579a361-a5c0-4bcb-ea81-047d1e2ecf31"
      },
      "execution_count": null,
      "outputs": [
        {
          "output_type": "execute_result",
          "data": {
            "text/plain": [
              "      ID  Статус\n",
              "0  64996       4\n",
              "1  71837       4\n",
              "2  86587       3\n",
              "3  73673       3\n",
              "4  54709       4"
            ],
            "text/html": [
              "\n",
              "  <div id=\"df-5849c817-30da-4094-8d98-626512ad262b\">\n",
              "    <div class=\"colab-df-container\">\n",
              "      <div>\n",
              "<style scoped>\n",
              "    .dataframe tbody tr th:only-of-type {\n",
              "        vertical-align: middle;\n",
              "    }\n",
              "\n",
              "    .dataframe tbody tr th {\n",
              "        vertical-align: top;\n",
              "    }\n",
              "\n",
              "    .dataframe thead th {\n",
              "        text-align: right;\n",
              "    }\n",
              "</style>\n",
              "<table border=\"1\" class=\"dataframe\">\n",
              "  <thead>\n",
              "    <tr style=\"text-align: right;\">\n",
              "      <th></th>\n",
              "      <th>ID</th>\n",
              "      <th>Статус</th>\n",
              "    </tr>\n",
              "  </thead>\n",
              "  <tbody>\n",
              "    <tr>\n",
              "      <th>0</th>\n",
              "      <td>64996</td>\n",
              "      <td>4</td>\n",
              "    </tr>\n",
              "    <tr>\n",
              "      <th>1</th>\n",
              "      <td>71837</td>\n",
              "      <td>4</td>\n",
              "    </tr>\n",
              "    <tr>\n",
              "      <th>2</th>\n",
              "      <td>86587</td>\n",
              "      <td>3</td>\n",
              "    </tr>\n",
              "    <tr>\n",
              "      <th>3</th>\n",
              "      <td>73673</td>\n",
              "      <td>3</td>\n",
              "    </tr>\n",
              "    <tr>\n",
              "      <th>4</th>\n",
              "      <td>54709</td>\n",
              "      <td>4</td>\n",
              "    </tr>\n",
              "  </tbody>\n",
              "</table>\n",
              "</div>\n",
              "      <button class=\"colab-df-convert\" onclick=\"convertToInteractive('df-5849c817-30da-4094-8d98-626512ad262b')\"\n",
              "              title=\"Convert this dataframe to an interactive table.\"\n",
              "              style=\"display:none;\">\n",
              "        \n",
              "  <svg xmlns=\"http://www.w3.org/2000/svg\" height=\"24px\"viewBox=\"0 0 24 24\"\n",
              "       width=\"24px\">\n",
              "    <path d=\"M0 0h24v24H0V0z\" fill=\"none\"/>\n",
              "    <path d=\"M18.56 5.44l.94 2.06.94-2.06 2.06-.94-2.06-.94-.94-2.06-.94 2.06-2.06.94zm-11 1L8.5 8.5l.94-2.06 2.06-.94-2.06-.94L8.5 2.5l-.94 2.06-2.06.94zm10 10l.94 2.06.94-2.06 2.06-.94-2.06-.94-.94-2.06-.94 2.06-2.06.94z\"/><path d=\"M17.41 7.96l-1.37-1.37c-.4-.4-.92-.59-1.43-.59-.52 0-1.04.2-1.43.59L10.3 9.45l-7.72 7.72c-.78.78-.78 2.05 0 2.83L4 21.41c.39.39.9.59 1.41.59.51 0 1.02-.2 1.41-.59l7.78-7.78 2.81-2.81c.8-.78.8-2.07 0-2.86zM5.41 20L4 18.59l7.72-7.72 1.47 1.35L5.41 20z\"/>\n",
              "  </svg>\n",
              "      </button>\n",
              "      \n",
              "  <style>\n",
              "    .colab-df-container {\n",
              "      display:flex;\n",
              "      flex-wrap:wrap;\n",
              "      gap: 12px;\n",
              "    }\n",
              "\n",
              "    .colab-df-convert {\n",
              "      background-color: #E8F0FE;\n",
              "      border: none;\n",
              "      border-radius: 50%;\n",
              "      cursor: pointer;\n",
              "      display: none;\n",
              "      fill: #1967D2;\n",
              "      height: 32px;\n",
              "      padding: 0 0 0 0;\n",
              "      width: 32px;\n",
              "    }\n",
              "\n",
              "    .colab-df-convert:hover {\n",
              "      background-color: #E2EBFA;\n",
              "      box-shadow: 0px 1px 2px rgba(60, 64, 67, 0.3), 0px 1px 3px 1px rgba(60, 64, 67, 0.15);\n",
              "      fill: #174EA6;\n",
              "    }\n",
              "\n",
              "    [theme=dark] .colab-df-convert {\n",
              "      background-color: #3B4455;\n",
              "      fill: #D2E3FC;\n",
              "    }\n",
              "\n",
              "    [theme=dark] .colab-df-convert:hover {\n",
              "      background-color: #434B5C;\n",
              "      box-shadow: 0px 1px 3px 1px rgba(0, 0, 0, 0.15);\n",
              "      filter: drop-shadow(0px 1px 2px rgba(0, 0, 0, 0.3));\n",
              "      fill: #FFFFFF;\n",
              "    }\n",
              "  </style>\n",
              "\n",
              "      <script>\n",
              "        const buttonEl =\n",
              "          document.querySelector('#df-5849c817-30da-4094-8d98-626512ad262b button.colab-df-convert');\n",
              "        buttonEl.style.display =\n",
              "          google.colab.kernel.accessAllowed ? 'block' : 'none';\n",
              "\n",
              "        async function convertToInteractive(key) {\n",
              "          const element = document.querySelector('#df-5849c817-30da-4094-8d98-626512ad262b');\n",
              "          const dataTable =\n",
              "            await google.colab.kernel.invokeFunction('convertToInteractive',\n",
              "                                                     [key], {});\n",
              "          if (!dataTable) return;\n",
              "\n",
              "          const docLinkHtml = 'Like what you see? Visit the ' +\n",
              "            '<a target=\"_blank\" href=https://colab.research.google.com/notebooks/data_table.ipynb>data table notebook</a>'\n",
              "            + ' to learn more about interactive tables.';\n",
              "          element.innerHTML = '';\n",
              "          dataTable['output_type'] = 'display_data';\n",
              "          await google.colab.output.renderOutput(dataTable, element);\n",
              "          const docLink = document.createElement('div');\n",
              "          docLink.innerHTML = docLinkHtml;\n",
              "          element.appendChild(docLink);\n",
              "        }\n",
              "      </script>\n",
              "    </div>\n",
              "  </div>\n",
              "  "
            ]
          },
          "metadata": {},
          "execution_count": 60
        }
      ]
    },
    {
      "cell_type": "code",
      "source": [
        "df_submission.to_csv(\"./sample_submission.csv\",index=False)"
      ],
      "metadata": {
        "id": "bARrj56pb0hs"
      },
      "execution_count": null,
      "outputs": []
    }
  ]
}